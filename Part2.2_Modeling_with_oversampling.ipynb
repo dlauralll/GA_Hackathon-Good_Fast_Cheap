{
 "cells": [
  {
   "cell_type": "markdown",
   "metadata": {},
   "source": [
    "# Hackathon Part3.2: Modeling with oversampling"
   ]
  },
  {
   "cell_type": "code",
   "execution_count": 1,
   "metadata": {},
   "outputs": [],
   "source": [
    "import pandas as pd\n",
    "import numpy as np\n",
    "\n",
    "from sklearn.linear_model import LinearRegression, LassoCV, RidgeCV, LogisticRegression, SGDClassifier\n",
    "from sklearn.preprocessing import StandardScaler, PolynomialFeatures, PowerTransformer\n",
    "from sklearn.model_selection import train_test_split, cross_val_score, GridSearchCV\n",
    "from sklearn.ensemble import VotingClassifier, RandomForestClassifier, ExtraTreesClassifier, RandomForestRegressor, ExtraTreesRegressor, BaggingClassifier, BaggingRegressor\n",
    "from sklearn.tree import DecisionTreeClassifier, DecisionTreeRegressor\n",
    "from sklearn.ensemble import AdaBoostClassifier, GradientBoostingClassifier, VotingClassifier, AdaBoostRegressor\n",
    "from sklearn.metrics import confusion_matrix\n",
    "from sklearn.naive_bayes import GaussianNB\n",
    "from sklearn.pipeline import Pipeline\n",
    "from sklearn.naive_bayes import MultinomialNB, ComplementNB\n",
    "from sklearn.neighbors import KNeighborsRegressor, KNeighborsClassifier\n",
    "from sklearn import metrics\n",
    "from sklearn.base import BaseEstimator\n",
    "from sklearn.svm import SVC, SVR \n",
    "from sklearn.metrics import mean_squared_error"
   ]
  },
  {
   "cell_type": "markdown",
   "metadata": {},
   "source": [
    "### Used two approaches to do oversampling- SMOTE and RandomOverSampler"
   ]
  },
  {
   "cell_type": "markdown",
   "metadata": {},
   "source": [
    "## Oversamping only on training dataset - Using SMOTE"
   ]
  },
  {
   "cell_type": "code",
   "execution_count": 2,
   "metadata": {},
   "outputs": [],
   "source": [
    "# read data\n",
    "%store -r data"
   ]
  },
  {
   "cell_type": "code",
   "execution_count": 3,
   "metadata": {},
   "outputs": [],
   "source": [
    "from imblearn.over_sampling import SMOTE, RandomOverSampler"
   ]
  },
  {
   "cell_type": "code",
   "execution_count": 4,
   "metadata": {},
   "outputs": [],
   "source": [
    "# assign X and y\n",
    "X = data.drop(['wage'], axis=1)\n",
    "y = data['wage']"
   ]
  },
  {
   "cell_type": "code",
   "execution_count": 5,
   "metadata": {},
   "outputs": [
    {
     "data": {
      "text/plain": [
       "array([[ 1.2123091 ,  1.20253518, -0.2286403 , ..., -0.04311306,\n",
       "        -0.12274328, -0.53707189],\n",
       "       [-0.70187063, -0.83683307, -0.2286403 , ..., -0.04311306,\n",
       "        -0.12274328, -0.53707189],\n",
       "       [-0.248135  ,  0.69166598,  2.8899561 , ..., -0.04311306,\n",
       "        -0.12274328, -0.53707189],\n",
       "       ...,\n",
       "       [-0.42078982,  1.35656997,  5.86576557, ..., -0.04311306,\n",
       "        -0.12274328,  1.86194813],\n",
       "       [-0.0856424 ,  1.37427656, -0.2286403 , ..., -0.04311306,\n",
       "        -0.12274328, -0.53707189],\n",
       "       [ 0.28311491,  0.50440585, -0.2286403 , ..., -0.04311306,\n",
       "        -0.12274328, -0.53707189]])"
      ]
     },
     "execution_count": 5,
     "metadata": {},
     "output_type": "execute_result"
    }
   ],
   "source": [
    "# Scale it before train test split\n",
    "ss = StandardScaler()\n",
    "ss.fit_transform(X)"
   ]
  },
  {
   "cell_type": "code",
   "execution_count": 6,
   "metadata": {},
   "outputs": [],
   "source": [
    "# train test split\n",
    "X_train, X_test, y_train, y_test = train_test_split(X, y,\n",
    "                                                  random_state=42)\n",
    "\n",
    "# oversampling training set using SMOTE\n",
    "sm = SMOTE(random_state=42, \n",
    "           sampling_strategy= 1.0) # ratio between minority group and majority group\n",
    "X_train_os, y_train_os = sm.fit_sample(X_train, y_train)"
   ]
  },
  {
   "cell_type": "code",
   "execution_count": 7,
   "metadata": {},
   "outputs": [],
   "source": [
    "from sklearn.base import BaseEstimator\n",
    "class ClfSwitcher(BaseEstimator):\n",
    "\n",
    "    def __init__(\n",
    "        self, \n",
    "        estimator = SGDClassifier(),\n",
    "    ):\n",
    "        \"\"\"\n",
    "        A Custom BaseEstimator that can switch between classifiers.\n",
    "        :param estimator: sklearn object - The classifier\n",
    "        \"\"\" \n",
    "\n",
    "        self.estimator = estimator\n",
    "\n",
    "\n",
    "    def fit(self, X, y=None, **kwargs):\n",
    "        self.estimator.fit(X, y)\n",
    "        return self\n",
    "\n",
    "\n",
    "    def predict(self, X, y=None):\n",
    "        return self.estimator.predict(X)\n",
    "\n",
    "\n",
    "    def predict_proba(self, X):\n",
    "        return self.estimator.predict_proba(X)\n",
    "\n",
    "\n",
    "    def score(self, X, y):\n",
    "        return self.estimator.score(X, y)"
   ]
  },
  {
   "cell_type": "code",
   "execution_count": 8,
   "metadata": {},
   "outputs": [],
   "source": [
    "pipe_params = [\n",
    "    {\n",
    "        'model__estimator': [LogisticRegression()],\n",
    "        'model__estimator__penalty': ['l1', 'l2']\n",
    "    },\n",
    "    {\n",
    "        'model__estimator': [RandomForestClassifier()],\n",
    "        'model__estimator__min_samples_split': [2, 3, 4, 5],\n",
    "        'model__estimator__min_samples_leaf' : [13, 14, 15, 16, 17],\n",
    "    },\n",
    "#      {\n",
    "#         'model__estimator': [DecisionTreeClassifier()],\n",
    "#         'model__estimator__min_samples_split': [2, 3, 4],\n",
    "#         'model__estimator__min_samples_leaf' : [1, 2, 3, 4],\n",
    "#         'model__estimator__max_features' : ['auto' , 'sqrt'],\n",
    "#     },\n",
    "    {\n",
    "        'model__estimator': [AdaBoostClassifier()],\n",
    "        'model__estimator__n_estimators': [100, 130, 150, 180],\n",
    "        'model__estimator__learning_rate' : [1, 2],\n",
    "        'model__estimator__algorithm' : ['SAMME', 'SAMME.R']\n",
    "    },\n",
    "#      {\n",
    "#         'model__estimator': [KNeighborsClassifier()],\n",
    "#         'model__estimator__p': [1, 2],\n",
    "#         'model__estimator__leaf_size' : [30, 20, 10],\n",
    "#     },\n",
    "#      {\n",
    "#         'model__estimator': [BaggingClassifier()],\n",
    "#         'model__estimator__n_estimators': [50, 100, 200, 300],\n",
    "#         'model__estimator__bootstrap' : [True, False]\n",
    "#      },\n",
    "#      {\n",
    "#         'model__estimator': [SVC()],\n",
    "#         'model__estimator__degree' : [2, 3, 4],\n",
    "#         'model__estimator__C' : [1, 10, 20, 100],\n",
    "\n",
    "#      },\n",
    "#          {\n",
    "#         'model__estimator': [GaussianNB()]\n",
    "#      },\n",
    "\n",
    "]\n",
    "\n",
    "# Defining a function to do our model analysis. This function takes in X, y, and any pipe parameters\n",
    "def model_analysis(X, y):\n",
    "    pipe = Pipeline([\n",
    "            ('model', ClfSwitcher())])\n",
    "\n",
    "    gs = GridSearchCV(pipe, pipe_params, cv=3, verbose=3, n_jobs=4)\n",
    "    gs.fit(X_train_os, y_train_os)\n",
    "\n",
    "    print(f' Best Parameters: {gs.best_params_}')\n",
    "    print('')\n",
    "    print(f' Cross Validation Accuracy Score: {gs.best_score_}')\n",
    "    print(f' Training Data Accuracy Score: {gs.score(X_train_os, y_train_os)}')\n",
    "    print(f' Testing Data Accuracy Score: {gs.score(X_test, y_test)}')"
   ]
  },
  {
   "cell_type": "code",
   "execution_count": 9,
   "metadata": {
    "scrolled": true
   },
   "outputs": [
    {
     "name": "stdout",
     "output_type": "stream",
     "text": [
      "Fitting 3 folds for each of 38 candidates, totalling 114 fits\n"
     ]
    },
    {
     "name": "stderr",
     "output_type": "stream",
     "text": [
      "[Parallel(n_jobs=4)]: Using backend LokyBackend with 4 concurrent workers.\n",
      "[Parallel(n_jobs=4)]: Done  25 tasks      | elapsed:    1.1s\n",
      "[Parallel(n_jobs=4)]: Done 107 out of 114 | elapsed:   12.9s remaining:    0.8s\n",
      "[Parallel(n_jobs=4)]: Done 114 out of 114 | elapsed:   14.9s finished\n"
     ]
    },
    {
     "name": "stdout",
     "output_type": "stream",
     "text": [
      " Best Parameters: {'model__estimator': AdaBoostClassifier(algorithm='SAMME.R', base_estimator=None, learning_rate=1,\n",
      "                   n_estimators=180, random_state=None), 'model__estimator__algorithm': 'SAMME.R', 'model__estimator__learning_rate': 1, 'model__estimator__n_estimators': 180}\n",
      "\n",
      " Cross Validation Accuracy Score: 0.8082491122644087\n",
      " Training Data Accuracy Score: 0.8931985796230538\n",
      " Testing Data Accuracy Score: 0.852195423623995\n"
     ]
    }
   ],
   "source": [
    "model_analysis(X_train_os, y_train_os)"
   ]
  },
  {
   "cell_type": "code",
   "execution_count": 10,
   "metadata": {},
   "outputs": [],
   "source": [
    "# No better than .86 that we got from the original dataset."
   ]
  },
  {
   "cell_type": "markdown",
   "metadata": {},
   "source": [
    "# Oversampling using Random Sampling"
   ]
  },
  {
   "cell_type": "code",
   "execution_count": 11,
   "metadata": {},
   "outputs": [],
   "source": [
    "#try Random Oversampling\n",
    "#https://en.wikipedia.org/wiki/Oversampling_and_undersampling_in_data_analysis\n",
    "# We already have X and y"
   ]
  },
  {
   "cell_type": "code",
   "execution_count": 12,
   "metadata": {},
   "outputs": [],
   "source": [
    "# train test split\n",
    "X_train, X_test, y_train, y_test = train_test_split(X, y,\n",
    "                                                  random_state=42)\n",
    "\n",
    "# oversampling training set using SMOTE\n",
    "sm = RandomOverSampler(random_state=42, \n",
    "           sampling_strategy= 0.8) # ratio between minority group and majority group\n",
    "X_train_ros, y_train_ros = sm.fit_sample(X_train, y_train)"
   ]
  },
  {
   "cell_type": "code",
   "execution_count": 13,
   "metadata": {},
   "outputs": [],
   "source": [
    "pipe_params = [\n",
    "    {\n",
    "        'model__estimator': [LogisticRegression()],\n",
    "        'model__estimator__penalty': ['l1', 'l2']\n",
    "    },\n",
    "    {\n",
    "        'model__estimator': [RandomForestClassifier()],\n",
    "        'model__estimator__min_samples_split': [2, 3, 4, 5],\n",
    "        'model__estimator__min_samples_leaf' : [13, 14, 15, 16, 17],\n",
    "    },\n",
    "#      {\n",
    "#         'model__estimator': [DecisionTreeClassifier()],\n",
    "#         'model__estimator__min_samples_split': [2, 3, 4],\n",
    "#         'model__estimator__min_samples_leaf' : [1, 2, 3, 4],\n",
    "#         'model__estimator__max_features' : ['auto' , 'sqrt'],\n",
    "#     },\n",
    "    {\n",
    "        'model__estimator': [AdaBoostClassifier()],\n",
    "        'model__estimator__n_estimators': [100, 130, 150, 180],\n",
    "        'model__estimator__learning_rate' : [1, 2],\n",
    "        'model__estimator__algorithm' : ['SAMME', 'SAMME.R']\n",
    "    },\n",
    "     {\n",
    "        'model__estimator': [KNeighborsClassifier()],\n",
    "        'model__estimator__p': [1, 2],\n",
    "        'model__estimator__leaf_size' : [30, 20, 10],\n",
    "    },\n",
    "#      {\n",
    "#         'model__estimator': [BaggingClassifier()],\n",
    "#         'model__estimator__n_estimators': [50, 100, 200, 300],\n",
    "#         'model__estimator__bootstrap' : [True, False]\n",
    "#      },\n",
    "     {\n",
    "        'model__estimator': [SVC()],\n",
    "        'model__estimator__degree' : [2, 3, 4],\n",
    "        'model__estimator__C' : [1, 10, 20, 100],\n",
    "\n",
    "     },\n",
    "         {\n",
    "        'model__estimator': [GaussianNB()]\n",
    "     },\n",
    "\n",
    "]\n",
    "\n",
    "# Defining a function to do our model analysis. This function takes in X, y, and any pipe parameters\n",
    "def model_analysis(X, y):\n",
    "    pipe = Pipeline([\n",
    "            ('model', ClfSwitcher())])\n",
    "\n",
    "    gs = GridSearchCV(pipe, pipe_params, cv=3, verbose=3, n_jobs=4)\n",
    "    gs.fit(X_train_os, y_train_os)\n",
    "\n",
    "    print(f' Best Parameters: {gs.best_params_}')\n",
    "    print('')\n",
    "    print(f' Cross Validation Accuracy Score: {gs.best_score_}')\n",
    "    print(f' Training Data Accuracy Score: {gs.score(X_train_ros, y_train_ros)}')\n",
    "    print(f' Testing Data Accuracy Score: {gs.score(X_test, y_test)}')"
   ]
  },
  {
   "cell_type": "code",
   "execution_count": 14,
   "metadata": {},
   "outputs": [
    {
     "name": "stdout",
     "output_type": "stream",
     "text": [
      "Fitting 3 folds for each of 57 candidates, totalling 171 fits\n"
     ]
    },
    {
     "name": "stderr",
     "output_type": "stream",
     "text": [
      "[Parallel(n_jobs=4)]: Using backend LokyBackend with 4 concurrent workers.\n",
      "[Parallel(n_jobs=4)]: Done  72 tasks      | elapsed:    4.4s\n"
     ]
    },
    {
     "name": "stdout",
     "output_type": "stream",
     "text": [
      " Best Parameters: {'model__estimator': GaussianNB(priors=None, var_smoothing=1e-09)}\n",
      "\n",
      " Cross Validation Accuracy Score: 0.8131658016935264\n",
      " Training Data Accuracy Score: 0.7942024586431932\n",
      " Testing Data Accuracy Score: 0.7748917748917749\n"
     ]
    },
    {
     "name": "stderr",
     "output_type": "stream",
     "text": [
      "[Parallel(n_jobs=4)]: Done 171 out of 171 | elapsed:   35.4s finished\n"
     ]
    }
   ],
   "source": [
    "model_analysis(X_train_ros, y_train_ros)"
   ]
  },
  {
   "cell_type": "code",
   "execution_count": 15,
   "metadata": {},
   "outputs": [],
   "source": [
    "# Seen Overfitness"
   ]
  },
  {
   "cell_type": "code",
   "execution_count": null,
   "metadata": {},
   "outputs": [],
   "source": []
  }
 ],
 "metadata": {
  "kernelspec": {
   "display_name": "Python 3",
   "language": "python",
   "name": "python3"
  },
  "language_info": {
   "codemirror_mode": {
    "name": "ipython",
    "version": 3
   },
   "file_extension": ".py",
   "mimetype": "text/x-python",
   "name": "python",
   "nbconvert_exporter": "python",
   "pygments_lexer": "ipython3",
   "version": "3.7.3"
  }
 },
 "nbformat": 4,
 "nbformat_minor": 2
}
